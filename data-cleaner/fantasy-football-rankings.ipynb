{
 "cells": [
  {
   "cell_type": "code",
   "execution_count": 1,
   "id": "a0f004ea-1225-44de-bb5e-6fd72f3ad190",
   "metadata": {},
   "outputs": [],
   "source": [
    "import pandas as pd"
   ]
  },
  {
   "cell_type": "code",
   "execution_count": 113,
   "id": "4b4ff2fc-d83a-4b30-a2dc-7f26cabf0bf0",
   "metadata": {},
   "outputs": [],
   "source": [
    "file_path = './2024 PPR Rankings v2.0.xlsx'\n",
    "# I Manually deleted the rows that contained totals\n",
    "# Read the Excel file into a dictionary of DataFrames\n",
    "dfs = pd.read_excel(file_path, sheet_name=None)\n",
    "\n",
    "# Populate names that need correcting\n",
    "names = {\n",
    "    'Marvin Harrison Jr.': 'Marvin Harrison',\n",
    "    'D.J. Moore': 'DJ Moore',\n",
    "    'Michael Pittman Jr.': 'Michael Pittman',\n",
    "    'Kenneth Walker III': 'Kenneth Walker',\n",
    "    'JK Dobbins': 'J.K. Dobbins',\n",
    "    'Brian Robinson Jr.': 'Brian Robinson',\n",
    "    'Josh Palmer': 'Joshua Palmer',\n",
    "    'Marquise Brown': 'Hollywood Brown',\n",
    "    'Brian Thomas Jr.': 'Brian Thomas',\n",
    "    'D.J. Chark': 'DJ Chark',\n",
    "    'Demario Douglas': 'DeMario Douglas',\n",
    "    'Marshawn Lloyd': 'MarShawn Lloyd'\n",
    "}"
   ]
  },
  {
   "cell_type": "code",
   "execution_count": 83,
   "id": "a5fd9c1c-4566-470d-834c-a0d004bd3116",
   "metadata": {},
   "outputs": [],
   "source": [
    "def excel_to_csv_strings(file_path):\n",
    "  \"\"\"\n",
    "  Reads an Excel file and converts each sheet into a CSV string.\n",
    "\n",
    "  Args:\n",
    "      file_path: The path to the Excel file.\n",
    "\n",
    "  Returns:\n",
    "      A dictionary where keys are sheet names and values are CSV strings.\n",
    "  \"\"\"\n",
    "\n",
    "  # Read the Excel file into a dictionary of DataFrames\n",
    "  dfs = pd.read_excel(file_path, sheet_name=None)\n",
    "\n",
    "  # Process each DataFrame and store the CSV strings in a new dictionary\n",
    "  csv_strings = {}\n",
    "  for sheet_name, df in dfs.items():\n",
    "\n",
    "      # Transpose df\n",
    "      df = df.transpose()\n",
    "      # Skip the first row and convert to CSV string\n",
    "      csv_string = df.to_csv(index=False, header=False)\n",
    "\n",
    "      # Clean up the CSV string\n",
    "      csv_string = csv_string.replace(',,', '')\n",
    "      csv_string = csv_string.replace(',\\n', '\\n').replace('\\n,', '\\n')\n",
    "\n",
    "      # Correct misspelled names\n",
    "      for incorrect_name, correct_name in names.items():\n",
    "          csv_string = csv_string.replace(incorrect_name, correct_name)\n",
    "\n",
    "      csv_strings[sheet_name] = csv_string\n",
    "\n",
    "  return csv_strings"
   ]
  },
  {
   "cell_type": "code",
   "execution_count": 116,
   "id": "884b8097-6981-429a-9be5-aefc0a5ee780",
   "metadata": {},
   "outputs": [],
   "source": [
    "result = excel_to_csv_strings(file_path)"
   ]
  },
  {
   "cell_type": "code",
   "execution_count": 117,
   "id": "74ab5d57-2520-4c30-8d59-e02af402434d",
   "metadata": {
    "scrolled": true
   },
   "outputs": [
    {
     "data": {
      "text/plain": [
       "\"Christian McCaffrey,Bijan Robinson,Breece Hall,Jonathan Taylor,Tyreek Hill,Justin Jefferson,Ja'Marr Chase,CeeDee Lamb,Amon-Ra St. Brown,Saquon Barkley,Garrett Wilson,A.J. Brown\\nJahmyr Gibbs,Marvin Harrison,Nico Collins,Derrick Henry,Chris Olave,Drake London,Cooper Kupp,Davante Adams,Patrick Mahomes,Kyren Williams,Travis Kelce,Sam LaPorta,De'Von Achane\\nJosh Jacobs,Travis Etienne,James Cook,Jalen Hurts,Josh Allen,Trey McBride,Joe Mixon,Mike Evans,Puka Nacua,DJ Moore,Mark Andrews,Michael Pittman,Brandon Aiyuk,Rachaad White\\nAnthony Richardson,Lamar Jackson,C.J. Stroud,Deebo Samuel,DK Metcalf,DeVonta Smith,Jaylen Waddle,Aaron Jones,Dalton Kincaid,Kenneth Walker\\nIsiah Pacheco,Najee Harris,David Montgomery,Zay Flowers,Malik Nabers,Terry McLaurin,Joe Burrow,Alvin Kamara,Rhamondre Stevenson\\nJordan Love,Kyler Murray,Amari Cooper,Tee Higgins,D'Andre Swift,Stefon Diggs,Tank Dell,Christian Kirk,Zamir White,James Conner,George Kittle,Evan Engram,Kyle Pitts\\nJaylen Warren,Javonte Williams,Diontae Johnson,Rome Odunze,Brock Purdy,Jared Goff,Austin Ekeler,Trey Benson,J.K. Dobbins,George Pickens,Chris Godwin,Tony Pollard,David Njoku\\nJaxon Smith-Njigba,Courtland Sutton,Zack Moss,Devin Singletary,Chuba Hubbard,Dak Prescott,Tua Tagovailoa,Dalton Schultz,Dallas Goedert,Christian Watson,Brian Robinson\\nCaleb Williams,Jerome Ford,Nick Chubb,Cole Kmet,Raheem Mostert,Tyjae Spears,Keenan Allen,Calvin Ridley,Chase Brown,Jake Ferguson,Xavier Worthy,Dontayvion Wicks\\nTrevor Lawrence,Jayden Daniels,Matthew Stafford,Joshua Palmer,DeAndre Hopkins,Tyler Lockett,Jayden Reed,Luke Musgrave,Hollywood Brown,Ezekiel Elliott\\nBrian Thomas,Keon Coleman,Jordan Addison,Rashee Rice,Blake Corum,Zach Charbonnet,Pat Freiermuth,Justin Herbert,Gus Edwards,Isaiah Likely,Brock Bowers,Aaron Rodgers,Kirk Cousins,Jonathon Brooks\\nAdonai Mitchell,Khalil Shakir,T.J. Hockenson,Rico Dowdle,Jaylen Wright,MarShawn Lloyd,Baker Mayfield,DJ Chark,Tyler Allgeier,Jameson Williams,Jakobi Meyers,Deshaun Watson,Will Levis\\nJaleel McLaughlin,Brandin Cooks,Ladd McConkey,DeMario Douglas,Darnell Mooney,Jerry Jeudy,Geno Smith,Bo Nix,Jahan Dotson,Andre Iosivas,Xavier Legette,Michael Wilson,Tyler Conklin,Ben Sinnott,Cade Otton,Ty Chandler,Antonio Gibson,Roschon Johnson,Tank Bigsby,Romeo Doubs\\nTyrone Tracy Jr.,Rashid Shaheed,Darius Slayton,Gabe Davis,Greg Dortch,Cam Akers,Khalil Herbert,Trey Sermon,Kimani Vidal,Audric Estime,Elijah Moore,Curtis Samuel,Allen Lazard,Van Jefferson,Sam Darnold,Derek Carr,Bryce Young,Drake Maye,Rashod Bateman,Wan'Dale Robinson,Kendrick Bourne,Ja'Lynn Polk,Mike Gesicki,Hunter Henry,Dameon Pierce,Dylan Laube,Justin Fields,Russell Wilson,Marquez Valdez-Scantling,Adam Thielen,Ricky Pearsall,Jermaine Burton,Kendre Miller,Miles Sanders,D'Onta Foreman,Isaac Guerendo,Ray Davis,Jamaal Williams,Carson Steele,Braelon Allen,Javon Baker,Jordan Whittington,Marvin Mims,Jalin Hyatt,Troy Franklin,Tyler Boyd,Kenneth Gainwell,Samaje Perine,Will Dissly,Hayden Hurst,Michael Mayer,Noah Fant,Alec Pierce,Dawson Knox,Chig Okonkwo,Deuce Vaughn,Treylon Burks,Calvin Austin III,Kylen Granson,Greg Dulcich,Daniel Jones,Gardner Minshew II,Jacoby Brissett\\n\""
      ]
     },
     "execution_count": 117,
     "metadata": {},
     "output_type": "execute_result"
    }
   ],
   "source": [
    "result['Combined-PPR']"
   ]
  },
  {
   "cell_type": "code",
   "execution_count": 118,
   "id": "0f888d6b-197d-459b-ace0-0f1d6f208663",
   "metadata": {},
   "outputs": [
    {
     "data": {
      "text/plain": [
       "\"Tyreek Hill,Justin Jefferson,Ja'Marr Chase,CeeDee Lamb,Amon-Ra St. Brown,Garrett Wilson,A.J. Brown\\nMarvin Harrison,Nico Collins,Chris Olave,Drake London,Cooper Kupp,Davante Adams\\nMike Evans,Puka Nacua,DJ Moore,Michael Pittman,Brandon Aiyuk\\nDeebo Samuel,DK Metcalf,DeVonta Smith,Jaylen Waddle\\nZay Flowers,Malik Nabers,Terry McLaurin\\nAmari Cooper,Tee Higgins,Stefon Diggs,Tank Dell,Christian Kirk\\nDiontae Johnson,Rome Odunze,George Pickens,Chris Godwin\\nJaxon Smith-Njigba,Courtland Sutton,Christian Watson\\nKeenan Allen,Calvin Ridley,Xavier Worthy,Dontayvion Wicks\\nJoshua Palmer,DeAndre Hopkins,Tyler Lockett,Jayden Reed,Hollywood Brown\\nBrian Thomas,Keon Coleman,Jordan Addison,Rashee Rice\\nAdonai Mitchell,Khalil Shakir,DJ Chark,Jameson Williams,Jakobi Meyers\\nBrandin Cooks,Ladd McConkey,DeMario Douglas,Darnell Mooney,Jerry Jeudy,Jahan Dotson,Andre Iosivas,Xavier Legette,Michael Wilson,Romeo Doubs\\nRashid Shaheed,Darius Slayton,Gabe Davis,Greg Dortch,Elijah Moore,Curtis Samuel,Allen Lazard,Van Jefferson,Rashod Bateman,Wan'Dale Robinson,Kendrick Bourne,Ja'Lynn Polk,Marquez Valdez-Scantling,Adam Thielen,Ricky Pearsall,Jermaine Burton,Javon Baker,Jordan Whittington,Marvin Mims,Jalin Hyatt,Troy Franklin,Tyler Boyd,Alec Pierce,Treylon Burks,Calvin Austin III\\n\""
      ]
     },
     "execution_count": 118,
     "metadata": {},
     "output_type": "execute_result"
    }
   ],
   "source": [
    "result['WR PPR']"
   ]
  },
  {
   "cell_type": "code",
   "execution_count": 119,
   "id": "15f9cedd-bacd-49c1-8b6b-1401372c0807",
   "metadata": {},
   "outputs": [
    {
     "data": {
      "text/plain": [
       "\"Christian McCaffrey,Bijan Robinson,Breece Hall,Jonathan Taylor,Saquon Barkley\\nJahmyr Gibbs,Derrick Henry,Kyren Williams,De'Von Achane\\nJosh Jacobs,Travis Etienne,James Cook,Joe Mixon,Rachaad White\\nAaron Jones,Kenneth Walker\\nIsiah Pacheco,Najee Harris,David Montgomery,Alvin Kamara,Rhamondre Stevenson\\nD'Andre Swift,Zamir White,James Connor\\nJaylen Warren,Javonte Williams,Austin Ekeler,Trey Benson,J.K. Dobbins,Tony Pollard\\nChuba Hubbard,Zack Moss,Devin Singletary,Brian Robinson\\nJerome Ford,Nick Chubb,Raheem Mostert,Tyjae Spears,Chase Brown\\nEzekiel Elliott\\nBlake Corum,Zach Charbonnet,Gus Edwards,Jonathon Brooks\\nRico Dowdle,Jaylen Wright,MarShawn Lloyd,Tyler Allgeier\\nJaleel McLaughlin,Ty Chandler,Antonio Gibson,Roschon Johnson,Tank Bigsby\\nTyrone Tracy Jr.,Cam Akers,Khalil Herbert,Trey Sermon,Kimani Vidal,Audric Estime,Dameon Pierce,Dylan Laube,Kendre Miller,Miles Sanders,D'Onta Foreman,Isaac Guerendo,Ray Davis,Jamaal Williams,Carson Steele,Braelon Allen,Kenneth Gainwell,Samaje Perine,Deuce Vaughn\\n\""
      ]
     },
     "execution_count": 119,
     "metadata": {},
     "output_type": "execute_result"
    }
   ],
   "source": [
    "result['RB PPR']"
   ]
  },
  {
   "cell_type": "code",
   "execution_count": 120,
   "id": "c83edb6d-941c-468b-9d29-e47c2c6715fe",
   "metadata": {},
   "outputs": [
    {
     "data": {
      "text/plain": [
       "'\\nTravis Kelce,Sam LaPorta\\nTrey McBride,Mark Andrews\\nDalton Kincaid\\n\\nGeorge Kittle,Evan Engram,Kyle Pitts\\nDavid Njoku\\nDalton Schultz,Dallas Goedert\\nCole Kmet,Jake Ferguson\\nLuke Musgrave\\nPat Freiermuth,Isaiah Likely,Brock Bowers\\nT.J. Hockenson\\nTyler Conklin,Ben Sinnott,Cade Otton\\nMike Gesicki,Hunter Henry,Will Dissly,Hayden Hurst,Michael Mayer,Noah Fant,Dawson Knox,Chig Okonkwo,Kylen Granson,Greg Dulcich\\n'"
      ]
     },
     "execution_count": 120,
     "metadata": {},
     "output_type": "execute_result"
    }
   ],
   "source": [
    "result['TE (all formats)']"
   ]
  },
  {
   "cell_type": "code",
   "execution_count": 121,
   "id": "d4ec3c4a-e4c4-468d-93b8-207f0b99fa03",
   "metadata": {},
   "outputs": [
    {
     "data": {
      "text/plain": [
       "'\\nPatrick Mahomes\\nJalen Hurts,Josh Allen\\nAnthony Richardson,Lamar Jackson,C.J. Stroud\\nJoe Burrow\\nJordan Love,Kyler Murray\\nBrock Purdy,Jared Goff\\nDak Prescott,Tua Tagovailoa\\nCaleb Williams\\nTrevor Lawrence,Jayden Daniels,Matthew Stafford\\nJustin Herbert,Aaron Rodgers,Kirk Cousins\\nBaker Mayfield,Deshaun Watson,Will Levis\\nGeno Smith,Bo Nix\\nSam Darnold,Derek Carr,Bryce Young,Drake Maye,Justin Fields,Russell Wilson,Daniel Jones,Gardner Minshew II,Jacoby Brissett\\n'"
      ]
     },
     "execution_count": 121,
     "metadata": {},
     "output_type": "execute_result"
    }
   ],
   "source": [
    "result['QB (all formats)']"
   ]
  },
  {
   "cell_type": "code",
   "execution_count": 122,
   "id": "ba37c7ba-be71-4924-90bb-51ea9ccdd94e",
   "metadata": {},
   "outputs": [
    {
     "data": {
      "text/plain": [
       "\"Tyreek Hill,Justin Jefferson,Ja'Marr Chase,CeeDee Lamb,Garrett Wilson,A.J. Brown,Amon-Ra St. Brown\\nMarvin Harrison,Nico Collins,Chris Olave,Drake London,Davante Adams\\nCooper Kupp,Mike Evans,DJ Moore,Michael Pittman,Brandon Aiyuk,Puka Nacua\\nDeebo Samuel,DK Metcalf,DeVonta Smith\\nJaylen Waddle,Zay Flowers,Malik Nabers,Terry McLaurin\\nAmari Cooper,Tee Higgins,Stefon Diggs,Tank Dell\\nChristian Kirk,Rome Odunze,George Pickens,Diontae Johnson,Chris Godwin\\nCourtland Sutton,Jaxon Smith-Njigba,Christian Watson\\nCalvin Ridley,Xavier Worthy,Dontayvion Wicks\\nJoshua Palmer,DeAndre Hopkins,Keenan Allen,Jayden Reed,Hollywood Brown\\nBrian Thomas,Keon Coleman,Jordan Addison,Tyler Lockett,Adonai Mitchell\\nKhalil Shakir,Rashee Rice,DJ Chark,Jameson Williams,Jakobi Meyers\\nBrandin Cooks,Darnell Mooney,Jerry Jeudy,DeMario Douglas,Jahan Dotson,Andre Iosivas,Xavier Legette,Michael Wilson,Romeo Doubs\\nRashid Shaheed,Darius Slayton,Ladd McConkey,Gabe Davis,Allen Lazard,Elijah Moore,Van Jefferson,Rashod Bateman,Greg Dortch,Curtis Samuel,Kendrick Bourne,Ja'Lynn Polk,Wan'Dale Robinson,Marquez Valdez-Scantling,Adam Thielen,Ricky Pearsall,Jermaine Burton,Javon Baker,Jordan Whittington,Marvin Mims,Jalin Hyatt,Troy Franklin,Tyler Boyd,Alec Pierce,Treylon Burks,Calvin Austin III\\n\""
      ]
     },
     "execution_count": 122,
     "metadata": {},
     "output_type": "execute_result"
    }
   ],
   "source": [
    "result['WR Half-PPR']"
   ]
  },
  {
   "cell_type": "code",
   "execution_count": 123,
   "id": "6606b3bb-0cff-4c13-8d4a-9c5e25c7e190",
   "metadata": {},
   "outputs": [
    {
     "data": {
      "text/plain": [
       "\"Christian McCaffrey,Bijan Robinson,Breece Hall,Jonathan Taylor,Saquon Barkley\\nDerrick Henry,Kyren Williams,Jahmyr Gibbs,De'Von Achane\\nJosh Jacobs,Travis Etienne,James Cook,Joe Mixon,Rachaad White\\nAaron Jones,Kenneth Walker,Najee Harris\\nDavid Montgomery,Isiah Pacheco,Alvin Kamara\\nRhamondre Stevenson,Zamir White,James Conner\\nJaylen Warren,Javonte Williams,Trey Benson,D'Andre Swift,J.K. Dobbins,Tony Pollard\\nChuba Hubbard,Zack Moss,Devin Singletary,Brian Robinson,Austin Ekeler\\nJerome Ford,Nick Chubb,Raheem Mostert,Tyjae Spears\\nEzekiel Elliott,Chase Brown\\nBlake Corum,Zach Charbonnet,Gus Edwards,Jonathon Brooks\\nRico Dowdle,Jaylen Wright,MarShawn Lloyd,Tyler Allgeier\\nTy Chandler,Antonio Gibson,Roschon Johnson,Tank Bigsby\\nTyrone Tracy Jr.,Audric Estime,Jaleel McLaughlin,Cam Akers,Khalil Herbert,Trey Sermon,Kimani Vidal,Dameon Pierce,Dylan Laube,Kendre Miller,Miles Sanders,D'Onta Foreman,Isaac Guerendo,Ray Davis,Jamaal Williams,Carson Steele,Braelon Allen,Kenneth Gainwell,Samaje Perine,Deuce Vaughn\\n\""
      ]
     },
     "execution_count": 123,
     "metadata": {},
     "output_type": "execute_result"
    }
   ],
   "source": [
    "result['RB Half-PPR']"
   ]
  },
  {
   "cell_type": "code",
   "execution_count": null,
   "id": "393b2569-44c2-4435-9fd7-423230825941",
   "metadata": {},
   "outputs": [],
   "source": []
  }
 ],
 "metadata": {
  "kernelspec": {
   "display_name": "Python 3 (ipykernel)",
   "language": "python",
   "name": "python3"
  },
  "language_info": {
   "codemirror_mode": {
    "name": "ipython",
    "version": 3
   },
   "file_extension": ".py",
   "mimetype": "text/x-python",
   "name": "python",
   "nbconvert_exporter": "python",
   "pygments_lexer": "ipython3",
   "version": "3.12.4"
  }
 },
 "nbformat": 4,
 "nbformat_minor": 5
}
